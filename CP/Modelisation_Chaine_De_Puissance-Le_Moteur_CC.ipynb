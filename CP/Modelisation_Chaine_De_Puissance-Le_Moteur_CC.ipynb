{
 "cells": [
  {
   "cell_type": "markdown",
   "metadata": {},
   "source": [
    "# Modélisation d'une chaine de puissance :\n",
    "\n",
    "> **Objectif** : Prendre en main le logiciel de modélisation et de simulation OpenModelica pour modéliser la chaine de puissance du Slider..."
   ]
  },
  {
   "cell_type": "markdown",
   "metadata": {
    "slideshow": {
     "slide_type": "slide"
    }
   },
   "source": [
    "## Le moteur électrique à courant continu :\n",
    "\n",
    "### Principe :\n",
    "\n",
    "La conversion de la puissance électrique (tension, courant) en puissance mécanique de rotation (couple, vitesse angulaire) sur le système Slider est réalisée par un moteur à courant continu à aimant permanent intégré dans le motoréducteur [Pololu 2825](motoreducteurCC.pdf) : https://www.pololu.com/product/2825\n",
    "\n",
    "\n",
    "Un tel moteur est constitué d'un rotor et d'un stator.\n",
    "\n",
    "- Le stator, appelé aussi inducteur, produit le champ magnétique, on parle de flux d'excitation, ce champ étant créé soit à partir d'un bobinage, soit à partir d'aimants permanents.\n",
    "\n",
    "- Le rotor, solidaire de l'arbre est appelé aussi induit reçoit le courant de puissance par l'intermédiaire du collecteur assurant avec les balais un contact par friction.\n",
    "\n",
    "<img src=\"https://ericecmorlaix.github.io/img/MCC-vue_eclatee.png\" alt=\"MCC-vue_eclatee.png\">\n",
    "\n",
    "Il fonctionne selon les principes décrits dans la vidéo suivante :"
   ]
  },
  {
   "cell_type": "code",
   "execution_count": 1,
   "metadata": {},
   "outputs": [
    {
     "data": {
      "text/html": [
       "<center>\n",
       "    <iframe width=\"560\" height=\"315\" src=\"https://www.youtube-nocookie.com/embed/A3b3Km5KVXs\" title=\"YouTube video player\" frameborder=\"0\" allow=\"accelerometer; autoplay; clipboard-write; encrypted-media; gyroscope; picture-in-picture; web-share\" allowfullscreen></iframe>\n",
       "</center>"
      ],
      "text/plain": [
       "<IPython.core.display.HTML object>"
      ]
     },
     "execution_count": 1,
     "metadata": {},
     "output_type": "execute_result"
    }
   ],
   "source": [
    "from IPython.display import HTML\n",
    "HTML(\"\"\"<center>\n",
    "    <iframe width=\"560\" height=\"315\" src=\"https://www.youtube-nocookie.com/embed/A3b3Km5KVXs\" title=\"YouTube video player\" frameborder=\"0\" allow=\"accelerometer; autoplay; clipboard-write; encrypted-media; gyroscope; picture-in-picture; web-share\" allowfullscreen></iframe>\n",
    "</center>\"\"\")   "
   ]
  },
  {
   "cell_type": "markdown",
   "metadata": {
    "slideshow": {
     "slide_type": "slide"
    }
   },
   "source": [
    "### Schéma électrique idéalisé d'un MCC :\n",
    "\n",
    "La partie statique (stator)(inducteur) permettant de créer le champ magnétique est composée soit d'un aimant permanent pour produire un champ magnétique constant, soit d'une bobine permettant un champ magnétique variable.\n",
    "\n",
    "<img src=\"https://upload.wikimedia.org/wikipedia/commons/f/fb/Sch%C3%A9ma-MCC.jpg\" alt=\"Schéma-MCC.jpg\">\n",
    "\n",
    "source : https://fr.wikipedia.org/wiki/Machine_%C3%A0_courant_continu\n",
    "\n",
    "La partie tournante (rotor)(induit) possède des bobines parcourues par un courant en provenance de l'extérieur via un ensemble de balais (partie fixe) et de lames collectrices (partie tournante).\n",
    "\n",
    "Le modèle électrique équivalent de l'induit comporte 3 éléments :\n",
    "\n",
    "- La résistance d'induit R (bobinages)\n",
    "\n",
    "- Une inductance L (n'intervient que pendant la phase transitoire, n'est pas prise en compte dans la phase de régime permanent)\n",
    "\n",
    "- Une contre FEM (Force ElectroMotrice) E qui n’apparaît que si et seulement si le rotor tourne."
   ]
  },
  {
   "cell_type": "markdown",
   "metadata": {
    "slideshow": {
     "slide_type": "slide"
    }
   },
   "source": [
    "### Modélisation d'un circuit électrique pour rappel des lois de base :\n",
    "\n",
    "<hr style=\"border-color: darkorange\">\n",
    "<h3 class='fa fa-cogs' style=\"color: darkorange\"> A faire vous-même n° 1 :</h3>\n",
    "\n",
    "- Modéliser le circuit électrique ci-dessous afin d'obtenir après simulation les tracés suivants ;\n",
    "\n",
    "<img src=\"https://ericecmorlaix.github.io/img/CircuitElec-Resistor.svg\" alt=\"CircuitElec-Resistor.svg\">\n",
    "\n",
    "<img src=\"https://ericecmorlaix.github.io/img/CircuitElec-ResistorCourbes.svg\" alt=\"CircuitElec-ResistorCourbes.svg\" width=80%>\n",
    "\n",
    "- Définir la fonction $U = f(I)$ qui caratérise le résistor R1 :\n",
    "\n",
    "....\n",
    "\n",
    "- Comment nomme-t-on cette loi :\n",
    "\n",
    "...\n",
    "\n",
    "- Quelles sont les lois de Kirchhoff :\n",
    "\n",
    "...\n",
    "\n",
    "- Expliquer le tracé suivant :\n",
    "\n",
    "<img src=\"https://ericecmorlaix.github.io/img/CircuitElec-ResistorPower.svg\" alt=\"CircuitElec-ResistorPower.svg\" width=80%>\n",
    "\n",
    "\n",
    "...\n",
    "\n",
    "- Quid du carré rouge sur le modèle du résistor R1 ?\n",
    "\n",
    "...\n",
    "\n",
    "- Discuter du rendement d'un tel composant...\n",
    "\n",
    "...\n",
    "\n",
    "<hr style=\"border-color: darkorange\">\n",
    "\n",
    "\n",
    "### Modélisation du moteur à courant continu :\n",
    "\n",
    "Les grandeurs physiques à considérées sont électriques et mécaniques :\n",
    "\n",
    "- u : tension d’alimentation (V)\n",
    "- e : force contre-électromotrice (V)\n",
    "- i : intensité dans le circuit d’induit\t(A)\n",
    "- w : vitesse angulaire (rad/s)\n",
    "- Cm : couple moteur (N.m)\n",
    "- Cr couple résistant sur le rotor\n",
    "- R : résistance de l’induit (Ω)\n",
    "- L : inductance de l’induit (H)\n",
    "- J : moment d’inertie du rotor (kg.m²)\n",
    "- ki : constante de couple (N.m.A-1)\n",
    "- ke : constante de force contre-électromotrice (FCEM) (V.s.rad-1)\n",
    "\n",
    "**Dans un moteur à courant continu, ke = ki = k**\n",
    "\n",
    "<hr style=\"border-color: darkorange\">\n",
    "<h3 class='fa fa-cogs' style=\"color: darkorange\"> A faire vous-même n° 2 :</h3>\n",
    "\n",
    "- Reproduire le modèle suivant :\n",
    "\n",
    "<img src=\"https://ericecmorlaix.github.io/img/MCC_0.svg\" alt=\"MCC_0.svg\">\n",
    "\n",
    "> - Par application de la loi des mailles quelle relation peut-on écrire entre u, e, r et i ?\n",
    ">\n",
    "> ...\n",
    ">\n",
    "> - Pourquoi le courant dans le circuit électrique est nul ?\n",
    ">\n",
    ">...\n",
    ">\n",
    "> - Comment varie w la vitesse angulaire en fonction de u la tension d'alimentation ?\n",
    ">\n",
    ">...\n",
    "\n",
    "\n",
    "- Modifier le modèle tel que :\n",
    "\n",
    "<img src=\"https://ericecmorlaix.github.io/img/MCC_1.svg\" alt=\"MCC_1.svg\">\n",
    "\n",
    "> - Que peut ont dire de e la force contre-électromotrice (V) et du courant i dans cette situation ?\n",
    ">\n",
    ">...\n",
    ">\n",
    "> - En déduire un protocole pour connaitre R la résistance de l'induit du moteur du système Slider, mesurer sa valeur réelle et la comparer avec celle donnée par le constructeur.\n",
    ">\n",
    ">...\n",
    ">\n",
    "> - Ajouter un capteur pour mesurer le couple entre la sortie de l'arbre moteur et le composant fixe de référence. Peut-on établir une relation entre Cm le couple moteur et i l'intensité du courant (faire varier R si besoin...) ?\n",
    ">\n",
    ">...\n",
    ">\n",
    "\n",
    "\n",
    "- Expliquer pourquoi le modèle suivant est plus proche du réel :\n",
    "\n",
    "<img src=\"https://ericecmorlaix.github.io/img/MCC_3.svg\" alt=\"MCC_3.svg\">\n"
   ]
  },
  {
   "cell_type": "markdown",
   "metadata": {},
   "source": [
    "## Références au programme :\n",
    "\n",
    "<style type=\"text/css\">\n",
    ".tg  {border-collapse:collapse;border-spacing:0;}\n",
    ".tg td{font-family:Arial, sans-serif;font-size:14px;padding:10px 5px;border-style:solid;border-width:1px;overflow:hidden;word-break:normal;border-color:black;}\n",
    ".tg th{font-family:Arial, sans-serif;font-size:14px;font-weight:normal;padding:10px 5px;border-style:solid;border-width:1px;overflow:hidden;word-break:normal;border-color:black;}\n",
    ".tg .tg-cv16{font-weight:bold;background-color:#dae8fc;border-color:inherit;text-align:center}\n",
    ".tg .tg-xldj{border-color:inherit;text-align:left}\n",
    "</style>\n",
    "<table class=\"tg\">\n",
    "  <tr>\n",
    "    <th class=\"tg-cv16\">Compétences développées</th>\n",
    "    <th class=\"tg-cv16\">Connaissances associées</th>    \n",
    "  </tr>\n",
    "  <tr>\n",
    "    <td class=\"tg-xldj\">Déterminer les grandeurs flux (courant) et effort (tension) dans un circuit électrique</td>\n",
    "    <td class=\"tg-xldj\">Lois de Kirchhoff<br>Lois de comportement</td>        \n",
    "  </tr>  \n",
    "\n",
    "   \n",
    "  \n",
    "</table>"
   ]
  },
  {
   "cell_type": "markdown",
   "metadata": {
    "slideshow": {
     "slide_type": "-"
    }
   },
   "source": [
    "<a rel=\"license\" href=\"http://creativecommons.org/licenses/by-sa/4.0/\"><img alt=\"Licence Creative Commons\" style=\"border-width:0\" src=\"https://i.creativecommons.org/l/by-sa/4.0/88x31.png\" /></a><br />Ce document est mis à disposition selon les termes de la <a rel=\"license\" href=\"http://creativecommons.org/licenses/by-sa/4.0/\">Licence Creative Commons Attribution -  Partage dans les Mêmes Conditions 4.0 International</a>.\n",
    "\n",
    "Pour toute question, suggestion ou commentaire : <a href=\"mailto:eric.madec@ecmorlaix.fr\">eric.madec@ecmorlaix.fr</a>"
   ]
  }
 ],
 "metadata": {
  "hide_input": false,
  "kernelspec": {
   "display_name": "Python 3",
   "language": "python",
   "name": "python3"
  },
  "language_info": {
   "codemirror_mode": {
    "name": "ipython",
    "version": 3
   },
   "file_extension": ".py",
   "mimetype": "text/x-python",
   "name": "python",
   "nbconvert_exporter": "python",
   "pygments_lexer": "ipython3",
   "version": "3.10.1"
  },
  "toc": {
   "base_numbering": 1,
   "nav_menu": {},
   "number_sections": true,
   "sideBar": true,
   "skip_h1_title": false,
   "title_cell": "Table of Contents",
   "title_sidebar": "Contents",
   "toc_cell": false,
   "toc_position": {},
   "toc_section_display": true,
   "toc_window_display": false
  },
  "varInspector": {
   "cols": {
    "lenName": 16,
    "lenType": 16,
    "lenVar": 40
   },
   "kernels_config": {
    "python": {
     "delete_cmd_postfix": "",
     "delete_cmd_prefix": "del ",
     "library": "var_list.py",
     "varRefreshCmd": "print(var_dic_list())"
    },
    "r": {
     "delete_cmd_postfix": ") ",
     "delete_cmd_prefix": "rm(",
     "library": "var_list.r",
     "varRefreshCmd": "cat(var_dic_list()) "
    }
   },
   "types_to_exclude": [
    "module",
    "function",
    "builtin_function_or_method",
    "instance",
    "_Feature"
   ],
   "window_display": false
  },
  "vscode": {
   "interpreter": {
    "hash": "c813da0d88532624e95401f841607d640ef6d724b81c00ab0d0885f617a921c3"
   }
  }
 },
 "nbformat": 4,
 "nbformat_minor": 2
}
