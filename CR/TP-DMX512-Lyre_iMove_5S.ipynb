{
 "cells": [
  {
   "cell_type": "markdown",
   "metadata": {},
   "source": [
    "## Mise en situation du système"
   ]
  },
  {
   "cell_type": "markdown",
   "metadata": {},
   "source": [
    "\n",
    "**Consulter** les pages 2, 3, 5 et 6 du [document ressource « Le DMX 512 »](https://ericecmorlaix.github.io/adn-Tutoriel_lab_si/MATOS/DMX/Document_ressource-Le_DMX_512.pdf) puis **choisir** les termes appropriés dans la liste ci-dessous pour **compléter** le paragraphe de la cellule suivante :\n",
    "\n",
    "- moteur(s),\n",
    "- actionneur(s),\n",
    "- projecteur(s),\n",
    "- lampe(s),\n",
    "- « 1 à 512 informations »,\n",
    "- « protocole numérique »,\n",
    "- rhéostat(s),\n",
    "- potentiomètre(s),\n",
    "- DMX 512,\n",
    "- gradateur(s) électronique(s),\n",
    "- multiplexage,\n",
    "- démultiplexage,\n",
    "- lyre,\n",
    "- « 1 à 32 »."
   ]
  },
  {
   "cell_type": "markdown",
   "metadata": {},
   "source": [
    "Le réglage de la luminosité des lampes des projecteurs de spectacle évolue depuis de nombreuses années.\n",
    " \n",
    "Initialement réalisée par des ____________ actionnés manuellement, il s’est vu doter d’un semblant d’automatismes lorsque ceux-ci ont été équipés de \n",
    "__________.\n",
    "\n",
    "En remplaçant le rhéostat par un ________________________, et les câbles multiconducteurs, lourds et encombrants, par un mécanisme appelé ___________________, la commande des éclairages de scène à permis la multiplication des projecteurs traditionnels.\n",
    "\n",
    "Les années 80 ont vu l’apparition de dispositifs d’éclairages dit « automatiques » tels que les _________ et les projecteurs de découpe. La commande analogique des dispositifs d’éclairage a été remplacée par un bus normalisé supportant un _______________________________: le _____________ . Capable de commander de ____________ appareils et de délivrer de ___________________ différentes codées sur un octet...\n",
    "\n",
    "On pourrait presque dire à un directeur de théâtre que ses spectacles ne tiennent qu’à un fil !"
   ]
  },
  {
   "cell_type": "markdown",
   "metadata": {},
   "source": [
    "## Présentation du système\n",
    "\n",
    "Le système étudié est un projecteur lyre, utilisé seul ou conjointement à d’autres dispositifs (projecteurs fixes, écrans de fumée, rampes de lumière, …), il contribue à produire une ambiance personnalisée dans des soirées thématiques ou des spectacles.\n",
    "\n",
    "<center><img src=\"https://ericecmorlaix.github.io/adn-Tutoriel_lab_si/MATOS/DMX/Lyre_iMove_5S/Lyre_iMove_5S-00.png\" width=\"30%\"></center>\n",
    "\n",
    "\n",
    "Il existe dans la même gamme, différents concurrents (JB System, Martin, Stairville, … voir document technique DT1).\n",
    "\n",
    "\n",
    "Les projecteurs lyres diffusent un faisceau lumineux variable en :\n",
    "\n",
    "- direction ;\n",
    "- couleur ;\n",
    "- forme ;\n",
    "- durée.\n",
    "\n",
    "Ils peuvent être pilotés :\n",
    "\n",
    "- individuellement selon un mode apprentissage (mémorisation d’une présentation) ;\n",
    "- en batterie avec d’autres projecteurs dans une relation maître/esclaves ;\n",
    "- à partir d’un système programmable (microordinateur, table de gestion d’animation dédiée, …).\n",
    "\n",
    "<center><img src=\"https://ericecmorlaix.github.io/adn-Tutoriel_lab_si/MATOS/DMX/Lyre_iMove_5S/Lyre_iMove_5S-01.png\" width=\"30%\"></center>\n",
    "\n",
    "Pour cela, ils sont équipés au minimum de 4 moteurs.  \n",
    "Deux moteurs assurent le déplacement du faisceau selon les deux axes repérés sur la figure ci-dessus. \n",
    "Le faisceau va alors balayer l’espace en fonction de la programmation.  \n",
    "L’axe vertical est défini « axe PAN » et l’axe horizontal est défini « axe TILT ». \n",
    "> Remarques : les termes PAN et TILT sont les termes communément utilisés en audiovisuel et dans le milieu du spectacle.\n",
    "\n",
    "Les deux autres moteurs assurent les modifications du faisceau, sa couleur et sa forme, par le déplacement de disques « filtres » et « gobos ».\n",
    "\n",
    "Le système est alimenté en énergie à partir du réseau électrique (230 V, 50 Hz), il est géré par un microcontrôleur.\n",
    "\n",
    "Une des caractéristiques fondamentales de ce type de projecteur est la fluidité du déplacement du faisceau.  \n",
    "La technologie employée implique un déplacement par pas angulaires.  \n",
    "Plus le pas de déplacement sera fin (donc imperceptible pour l’œil humain), plus la fluidité sera de qualité.\n",
    "\n",
    "En conclusion, la qualité des projecteurs lyres s’évalue au niveau :\n",
    "\n",
    "- de la fluidité ;\n",
    "- de la dynamique ;\n",
    "- de capacités de communication ;\n",
    "- du niveau sonore lors de son fonctionnement.\n",
    "\n",
    "### Description du projecteur JB System IMove 5S \n",
    "\n",
    "<center><img src=\"https://ericecmorlaix.github.io/adn-Tutoriel_lab_si/MATOS/DMX/Lyre_iMove_5S/Lyre_iMove_5S-02.png\" width=\"70%\"></center>\n",
    "\n",
    "> ##### Remarque :\n",
    ">- La poulie crantée liée à l’axe du moteur PAN comporte 16 dents ;\n",
    ">- Le moteur TILT implanté dans la poutre centrale de l’arceau mobile est identique au moteur PAN.\n",
    "\n",
    "#### Caractéristiques des déplacements\n",
    "\n",
    "- Plage : \n",
    "    - axe PAN : 0° à 540°\n",
    "    - axe TILT : 0° à 270°\n",
    "- Temps minimal de déplacement :\n",
    "    - axe PAN : 540° en 3 s\n",
    "    - axe TILT : 270° en 1,8 s\n",
    "\n",
    "#### Fonctionnement des mouvements PAN et TILT :\n",
    "\n",
    "Lors de la mise sous tension, le projecteur se réinitialise : la tête de projection ainsi que l’arceau mobile rejoignent chacun leurs positions initiales à partir desquelles leurs déplacements seront référencés.\n",
    "\n",
    "La prise en compte de la mise en position référence est réalisée par des microcontacts une seule fois à la mise sous tension.\n",
    "\n",
    "<center><img src=\"https://ericecmorlaix.github.io/adn-Tutoriel_lab_si/MATOS/DMX/Lyre_iMove_5S/Lyre_iMove_5S-03.png\" width=\"70%\"></center>"
   ]
  },
  {
   "cell_type": "markdown",
   "metadata": {},
   "source": [
    "## Etude du système\n",
    "\n",
    "**Etudier** les parties A, B, C et D du sujet [Lyre Imove 5S](https://ericecmorlaix.github.io/adn-Tutoriel_lab_si/MATOS/DMX/Lyre_iMove_5S/LyreImove5S-DQ.pdf) en vous appuyant sur la description précédente, les documents [techniques](https://ericecmorlaix.github.io/adn-Tutoriel_lab_si/MATOS/DMX/Lyre_iMove_5S/LyreImove5S-DT.pdf) et [réponses](https://ericecmorlaix.github.io/adn-Tutoriel_lab_si/MATOS/DMX/Lyre_iMove_5S/LyreImove5S-DR.pdf) ; "
   ]
  },
  {
   "cell_type": "markdown",
   "metadata": {},
   "source": [
    "..."
   ]
  },
  {
   "cell_type": "markdown",
   "metadata": {},
   "source": [
    "## Expérimentation\n",
    "\n",
    "**Réaliser** le câblage du réseau lumière du laboratoire de SI afin de connecter la lyre (iMove 5S), le scan à LED (star LED), la boule à LED (LED ZIRCON) et le projecteur à LED PAR-56 à l’interface USB contrôleur DMX VM116.\n",
    "\n",
    "Les informations transmises sur un réseau DMX 512 sont contenues dans une trame. Celle-ci est constituée d’un en-tête et de données applicatives : les canaux.\n",
    "\n",
    "<center><img src=\"https://ericecmorlaix.github.io/adn-Tutoriel_lab_si/MATOS/DMX/DMX-00.png\" width=\"70%\"></center>\n",
    "\n",
    "On appelle « Canal n », la position n d’une valeur V dans la trame. \n",
    "Si par exemple, la valeur transmise à la position 5 est 57, on dira que le canal 5 est égal à 57. \n",
    "Chaque canal est constitué de 11 bits. \n",
    "\n",
    "Les récepteurs, connectés à un réseau DMX 512, utilisent un ou plusieurs canaux. Comme chaque récepteur reçoit l’intégralité de la trame, il faut faire en sorte qu’il conserve uniquement les canaux qui le concernent. Pour cela, les récepteurs sont réglés sur le premier des canaux qu’ils doivent conserver. Ce canal est appelé canal de base.\n",
    "\n",
    "> Exemple : La boule à LED ZIRCON possède 6 fonctions pilotables par le DMX alors que la lyre iMove 5S en possède 5. Un canal étant nécessaire pour la \n",
    "commande d’une fonction : ces équipements occupent respectivement six et cinq canaux. Pour réserver les canaux 7 à 11 à la lyre, il faut régler son canal de base avec la valeur 7.\n",
    "\n",
    "> Sur le scan à LED STAR LED, le canal de base se règle avec un « Dip switch » (commutateurs). Sur la lyre iMove 5S, la boule LED ZIRCON, et le projecteur à LED PAR-56, on dispose d’un ensemble clavier-afficheur.\n",
    "\n",
    "**Régler** le canal de base de chacun des appareils en respectant les valeurs du tableau suivant :\n",
    "| Equipement | Canal de base|\n",
    "|:---:|:---:|\n",
    "| Boule LED ZIRCON | 1 |\n",
    "| Lyre iMove 5S | 7 |\n",
    "| PAR-56 à LED  | 12 |\n",
    "| Scan STAR LED | 17 |\n",
    "\n",
    "Le logiciel [« DMX512 Light Controller »](https://ericecmorlaix.github.io/adn-Tutoriel_lab_si/MATOS/DMX/VM116/DMXdemo.zip) permet de **tester** les éléments placés sur le réseau et d’écrire des séquences simples. \n",
    "\n",
    "Au lancement du logiciel, le panneau de contrôle doit ressembler à celui décrit ci-dessous.\n",
    "\n",
    "<center><img src=\"https://ericecmorlaix.github.io/adn-Tutoriel_lab_si/MATOS/DMX/DMX-01.png\" width=\"60%\"></center>\n",
    "\n",
    "> **Initialiser** la transmission en changeant le nombre de canaux dans « DMX Channels ». **Choisir** par exemple 16 puis régler sur 32... \n",
    "\n",
    "Chaque « Fader » règle la valeur transmise sur « un canal » entre 0 et 255.\n",
    "\n",
    "**Déplacer** les faders et **observer** le comportement des différents équipements afin de **compléter** le tableau des canaux affectés à la lyre.\n",
    "\n",
    "<center><img src=\"https://ericecmorlaix.github.io/adn-Tutoriel_lab_si/MATOS/DMX/DMX-02.png\" width=\"60%\"></center>\n",
    "\n",
    "\n",
    "**Lire** le paragraphe _« Transmission asynchrone »_ page 9 du [document ressource « Le DMX 512 »](./Document_ressource-Le_DMX_512.pdf) puis **choisir** les termes appropriés dans la liste ci-dessous pour **compléter** le paragraphe de la cellule suivante :\n",
    "\n",
    "- 250kbit/s ,\n",
    "- « unidirectionnelle série asynchrone »,\n",
    "- initialisation,\n",
    "- 8 bits."
   ]
  },
  {
   "cell_type": "markdown",
   "metadata": {},
   "source": [
    "Le protocole DMX 512 définit les caractéristiques d’une transmission ___________________ d’une trame de 1 à 512 octets avec un débit binaire de __________________.\n",
    "\n",
    "Les informations sont codées sur ____________________ et sont encadrées par un bit de start et deux bits de stop. Les récepteurs se synchronisent sur l’émetteur à chaque ___________________. "
   ]
  },
  {
   "cell_type": "markdown",
   "metadata": {},
   "source": [
    "**Lire** le paragraphe _« Le multiplexage numérique des données »_ page 10 et 11 du [document ressource « Le DMX 512 »](./Document_ressource-Le_DMX_512.pdf).\n",
    "\n",
    "On rappelle que la trame d’un canal comprend 11 bits. Elle est organisée comme ci-dessous :\n",
    "\n",
    "<center><img src=\"https://ericecmorlaix.github.io/adn-Tutoriel_lab_si/MATOS/DMX/DMX-03.png\" width=\"60%\"></center>\n",
    "\n",
    "> ##### Remarque\n",
    "> Le bit de start est toujours au « 0 » logique. Les bits de stop sont toujours au « 1 » logique.\n",
    "\n",
    "**Relever** sur l'oscillogramme suivant la valeur binaire transmise par le canal 1.\n",
    "\n",
    "<center><img src=\"https://ericecmorlaix.github.io/adn-Tutoriel_lab_si/MATOS/DMX/DMX-04.png\" width=\"50%\"></center>\n",
    "\n"
   ]
  },
  {
   "cell_type": "markdown",
   "metadata": {},
   "source": [
    "..."
   ]
  },
  {
   "cell_type": "markdown",
   "metadata": {},
   "source": [
    "**Calculer**, en degrés, la valeur de l’angle du PAN correspondant à la valeur transmise sur le canal 1.\n",
    "\n",
    "<center><img src=\"https://ericecmorlaix.github.io/adn-Tutoriel_lab_si/MATOS/DMX/DMX-05.png\" width=\"30%\"></center>"
   ]
  },
  {
   "cell_type": "markdown",
   "metadata": {},
   "source": [
    "..."
   ]
  },
  {
   "cell_type": "markdown",
   "metadata": {},
   "source": [
    "> **Reproduire** expérimentalement cette situation afin de vérifier vos calculs..."
   ]
  },
  {
   "cell_type": "markdown",
   "metadata": {},
   "source": [
    "## Etude de la communication du système\n",
    "\n",
    "**Etudier** la partie E du sujet [Lyre Imove 5S](https://ericecmorlaix.github.io/adn-Tutoriel_lab_si/MATOS/DMX/Lyre_iMove_5S/LyreImove5S-DQ.pdf) en vous appuyant sur l'expérimentation précédente et le document [technique DT2](https://ericecmorlaix.github.io/adn-Tutoriel_lab_si/MATOS/DMX/Lyre_iMove_5S/LyreImove5S-DT.pdf) ; "
   ]
  },
  {
   "cell_type": "markdown",
   "metadata": {},
   "source": [
    "..."
   ]
  },
  {
   "cell_type": "markdown",
   "metadata": {},
   "source": [
    "## Complément de synthèse de communication DMX\n",
    "\n",
    "Le chronogramme suivant sur correspond à une trame DMX 512 transmise à l’aide du logiciel « DMX512 Light Controller ».\n",
    "\n",
    "<center><img src=\"https://ericecmorlaix.github.io/adn-Tutoriel_lab_si/MATOS/DMX/DMX-06.png\" width=\"80%\"></center>\n",
    "\n",
    "**Identifier** le _« Break »_, le _« Mark After Break »_ et le _« Start Code »_ de cette trame.\n",
    "\n",
    "Correspond-elle aux réglages de l’écran du logiciel « DMX512 Light Controller » ?"
   ]
  },
  {
   "cell_type": "markdown",
   "metadata": {},
   "source": [
    "..."
   ]
  },
  {
   "cell_type": "markdown",
   "metadata": {},
   "source": []
  }
 ],
 "metadata": {
  "kernelspec": {
   "display_name": "Python 3",
   "language": "python",
   "name": "python3"
  },
  "language_info": {
   "name": "python",
   "version": "3.10.1"
  }
 },
 "nbformat": 4,
 "nbformat_minor": 2
}
